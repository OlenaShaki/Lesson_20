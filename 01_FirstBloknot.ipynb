{
 "cells": [
  {
   "cell_type": "markdown",
   "id": "76889708-c853-48ec-b797-65832846c51d",
   "metadata": {},
   "source": [
    "# Заголовок 1\n",
    "## Загловок 2\n",
    "### Заголовок 3\n",
    "*текст*\n"
   ]
  },
  {
   "cell_type": "code",
   "execution_count": null,
   "id": "4f842498-99bb-4eaa-8550-313866958464",
   "metadata": {},
   "outputs": [],
   "source": []
  },
  {
   "cell_type": "code",
   "execution_count": null,
   "id": "1019d27f-777b-4d35-8831-a14ca82c231a",
   "metadata": {},
   "outputs": [],
   "source": []
  }
 ],
 "metadata": {
  "kernelspec": {
   "display_name": "Python 3 (ipykernel)",
   "language": "python",
   "name": "python3"
  },
  "language_info": {
   "codemirror_mode": {
    "name": "ipython",
    "version": 3
   },
   "file_extension": ".py",
   "mimetype": "text/x-python",
   "name": "python",
   "nbconvert_exporter": "python",
   "pygments_lexer": "ipython3",
   "version": "3.10.11"
  }
 },
 "nbformat": 4,
 "nbformat_minor": 5
}
